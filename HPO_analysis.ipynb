{
 "cells": [
  {
   "cell_type": "code",
   "execution_count": 1,
   "metadata": {},
   "outputs": [],
   "source": [
    "%matplotlib inline\n",
    "# %matplotlib notebook # Does not work \n",
    "import pickle\n",
    "import numpy as np\n",
    "from matplotlib import pyplot as plt\n",
    "from matplotlib.backends.backend_pdf import PdfPages\n",
    "from hpbandster.core.result import logged_results_to_HBS_result"
   ]
  },
  {
   "cell_type": "code",
   "execution_count": 2,
   "metadata": {},
   "outputs": [],
   "source": [
    "def get_runs(file):\n",
    "    results = pickle.load(open(file, \"rb\"))\n",
    "    return results['hpo_results']"
   ]
  },
  {
   "cell_type": "code",
   "execution_count": 3,
   "metadata": {},
   "outputs": [],
   "source": [
    "tvqa_bohb_config = './workdir/hpo_results_bohb/'\n",
    "tvqa_rs_results = './workdir/hpo_results_rs/'"
   ]
  },
  {
   "cell_type": "code",
   "execution_count": 4,
   "metadata": {},
   "outputs": [],
   "source": [
    "# bohb_file = './bioasq_dir/bioasq_hpo_results_bohb.pickle'\n",
    "# rs_file = './bioasq_dir/bioasq_hpo_results_rs.pickle'"
   ]
  },
  {
   "cell_type": "code",
   "execution_count": 5,
   "metadata": {},
   "outputs": [],
   "source": [
    "tvqa_bohb_dir = './workdir/hpo_results_bohb/'\n",
    "tvqa_rs_dir = './workdir/hpo_results_rs/'"
   ]
  },
  {
   "cell_type": "code",
   "execution_count": 6,
   "metadata": {},
   "outputs": [],
   "source": [
    "# bohb_file = './robust_dir/robust_hpo_results_bohb20190925.pickle'\n",
    "# rs_file = './robust_dir/robust_hpo_results_rs20190925.pickle'"
   ]
  },
  {
   "cell_type": "code",
   "execution_count": 7,
   "metadata": {},
   "outputs": [],
   "source": [
    "# Intermediate results\n",
    "\n",
    "# bohb_results = logged_results_to_HBS_result(bio_bohb_dir)\n",
    "# rs_results = logged_results_to_HBS_result(bio_rs_dir)\n",
    "\n",
    "bohb_results = logged_results_to_HBS_result(tvqa_bohb_dir)\n",
    "rs_results = logged_results_to_HBS_result(tvqa_rs_dir)"
   ]
  },
  {
   "cell_type": "code",
   "execution_count": 8,
   "metadata": {},
   "outputs": [],
   "source": [
    "# # Final results\n",
    "\n",
    "# bohb_results = get_runs(bohb_file)\n",
    "# rs_results = get_runs(rs_file)"
   ]
  },
  {
   "cell_type": "code",
   "execution_count": 9,
   "metadata": {},
   "outputs": [],
   "source": [
    "# \n",
    "\n",
    "all_runs_bohb = bohb_results.get_all_runs()\n",
    "all_runs_rs = rs_results.get_all_runs()"
   ]
  },
  {
   "cell_type": "code",
   "execution_count": 10,
   "metadata": {},
   "outputs": [
    {
     "data": {
      "image/png": "[encoded data removed]",
      "text/plain": [
       "<Figure size 432x288 with 1 Axes>"
      ]
     },
     "metadata": {
      "needs_background": "light"
     },
     "output_type": "display_data"
    }
   ],
   "source": [
    "hour = 3600\n",
    "\n",
    "pp = PdfPages('hpo_test.pdf')\n",
    "plt.figure()\n",
    "plt.clf()\n",
    "\n",
    "plt.title('y vs x')\n",
    "plt.xlabel('x axis', fontsize = 13)\n",
    "plt.ylabel('y axis', fontsize = 13)\n",
    "\n",
    "\n",
    "incumbent_rs = rs_results.get_incumbent_trajectory()\n",
    "incumbent_bohb = bohb_results.get_incumbent_trajectory()\n",
    "plt.plot([x/hour for x in incumbent_rs['times_finished']], incumbent_rs['losses'])\n",
    "plt.plot([x/hour for x in incumbent_bohb['times_finished']], incumbent_bohb['losses'])\n",
    "pp.savefig()\n",
    "plt.show()\n",
    "pp.close()"
   ]
  },
  {
   "cell_type": "code",
   "execution_count": 11,
   "metadata": {},
   "outputs": [
    {
     "data": {
      "text/plain": [
       "0.44354000000000005"
      ]
     },
     "execution_count": 11,
     "metadata": {},
     "output_type": "execute_result"
    }
   ],
   "source": [
    "min(rs_results.get_incumbent_trajectory()['losses'])"
   ]
  },
  {
   "cell_type": "code",
   "execution_count": 12,
   "metadata": {},
   "outputs": [
    {
     "data": {
      "text/plain": [
       "{'config_ids': [(0, 0, 0), (1, 0, 0), (9, 0, 0), (18, 0, 0), (18, 0, 0)],\n",
       " 'times_finished': [341.07836961746216,\n",
       "  695.3013651371002,\n",
       "  2320.578613758087,\n",
       "  4507.054939985275,\n",
       "  39204.07489991188],\n",
       " 'budgets': [100, 100, 100, 100, 100],\n",
       " 'losses': [0.44662,\n",
       "  0.44506,\n",
       "  0.44362999999999997,\n",
       "  0.44354000000000005,\n",
       "  0.44354000000000005]}"
      ]
     },
     "execution_count": 12,
     "metadata": {},
     "output_type": "execute_result"
    }
   ],
   "source": [
    "rs_results.get_incumbent_trajectory()"
   ]
  },
  {
   "cell_type": "code",
   "execution_count": 13,
   "metadata": {},
   "outputs": [
    {
     "data": {
      "text/plain": [
       "0.4444"
      ]
     },
     "execution_count": 13,
     "metadata": {},
     "output_type": "execute_result"
    }
   ],
   "source": [
    "min(bohb_results.get_incumbent_trajectory()['losses'])"
   ]
  },
  {
   "cell_type": "code",
   "execution_count": 14,
   "metadata": {},
   "outputs": [
    {
     "data": {
      "text/plain": [
       "{'s': {'metric': 0.55224,\n",
       "  'info': {'label': 'Accuracy based, LambdaMART optimized based on P@1',\n",
       "   'model_file': './workdir/tvqa_lmart_id45_budget33_leaves35_lr0.14_n1900'}},\n",
       " 'mean_metric': 0.55224,\n",
       " 'std_metric': 0.0}"
      ]
     },
     "execution_count": 14,
     "metadata": {},
     "output_type": "execute_result"
    }
   ],
   "source": [
    "bohb_results.get_runs_by_id(bohb_results.get_incumbent_id())[0].info"
   ]
  }
 ],
 "metadata": {
  "kernelspec": {
   "display_name": "Python 3",
   "language": "python",
   "name": "python3"
  },
  "language_info": {
   "codemirror_mode": {
    "name": "ipython",
    "version": 3
   },
   "file_extension": ".py",
   "mimetype": "text/x-python",
   "name": "python",
   "nbconvert_exporter": "python",
   "pygments_lexer": "ipython3",
   "version": "3.7.3"
  }
 },
 "nbformat": 4,
 "nbformat_minor": 2
}
