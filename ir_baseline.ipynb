{
 "cells": [
  {
   "cell_type": "code",
   "execution_count": 9,
   "metadata": {},
   "outputs": [],
   "source": [
    "import pickle\n",
    "import json\n",
    "import gzip\n",
    "import os\n",
    "import subprocess\n",
    "import numpy as np\n",
    "import multiprocessing\n",
    "import re \n",
    "import csv\n",
    "import torch\n",
    "import sys\n",
    "import shutil\n",
    "import random\n",
    "\n",
    "import uuid\n",
    "import datetime\n",
    "import time\n",
    "\n",
    "import bz2\n",
    "import pandas as pd\n",
    "# import dbmanager  as dbmanager\n",
    "from os.path import join\n",
    "\n",
    "\n",
    "# from nltk.tokenize import RegexpTokenizer\n",
    "# import nltk\n",
    "from sklearn.feature_extraction.text import TfidfVectorizer\n",
    "from sklearn.metrics.pairwise import linear_kernel\n",
    "# nltk.download('punkt') # for english sentences tokenization\n",
    "\n",
    "# tokenizer = RegexpTokenizer(r'\\w+')"
   ]
  },
  {
   "cell_type": "code",
   "execution_count": 10,
   "metadata": {},
   "outputs": [],
   "source": [
    "## Load non processed data\n",
    "# file = './data/tvqa_qa_release/tvqa_train.jsonl'\n",
    "# with open(file, 'r') as f:\n",
    "#     lines = []\n",
    "#     for l in f.readlines():\n",
    "#         loaded_l = json.loads(l.strip(\"\\n\"))\n",
    "#         lines.append(loaded_l)"
   ]
  },
  {
   "cell_type": "code",
   "execution_count": 11,
   "metadata": {},
   "outputs": [],
   "source": [
    "train_file = './data/tvqa_train_processed.json'\n",
    "val_file = './data/tvqa_val_processed.json'\n",
    "with open(val_file, 'r') as f:\n",
    "    processed_data_val = json.load(f)\n",
    "\n",
    "with open(train_file, 'r') as f:\n",
    "    processed_data_train = json.load(f)"
   ]
  },
  {
   "cell_type": "code",
   "execution_count": 12,
   "metadata": {},
   "outputs": [],
   "source": [
    "def qa_prediction(data):\n",
    "    gold_answers = []\n",
    "    predicted_answers = []\n",
    "    print(len(data))\n",
    "    for item in data:\n",
    "        tfidf_vectorizer = TfidfVectorizer()\n",
    "        q = [item['q']]\n",
    "        answers = [item['a' + str(i)] for i in range(0,5)]\n",
    "    #     print(answers)\n",
    "        tfidf_q = tfidf_vectorizer.fit_transform(q)\n",
    "    #     print(tfidf_q)\n",
    "        tfidf_answers = tfidf_vectorizer.transform(answers)\n",
    "    #     print(tfidf_answers)\n",
    "        cosine_similarities = linear_kernel(tfidf_q, tfidf_answers).flatten()\n",
    "        related_docs_indices = cosine_similarities.argsort()[:-5:-1]\n",
    "        gold_answers.append(item['answer_idx'])\n",
    "        predicted_answers.append(related_docs_indices[0])\n",
    "    return [predicted_answers, gold_answers]"
   ]
  },
  {
   "cell_type": "code",
   "execution_count": 13,
   "metadata": {},
   "outputs": [
    {
     "name": "stdout",
     "output_type": "stream",
     "text": [
      "15253\n"
     ]
    }
   ],
   "source": [
    "[predicted_answers, gold_answers] = qa_prediction(processed_data_val)\n",
    "preds = np.asarray(predicted_answers)\n",
    "targets = np.asarray(gold_answers)\n",
    "acc = sum(preds == targets) / float(len(preds))"
   ]
  },
  {
   "cell_type": "code",
   "execution_count": 14,
   "metadata": {},
   "outputs": [
    {
     "data": {
      "text/plain": [
       "0.22625057365764112"
      ]
     },
     "execution_count": 14,
     "metadata": {},
     "output_type": "execute_result"
    }
   ],
   "source": [
    "acc"
   ]
  },
  {
   "cell_type": "code",
   "execution_count": 15,
   "metadata": {},
   "outputs": [],
   "source": [
    "def sa_prediction(data):\n",
    "    tfidf_vectorizer = TfidfVectorizer()\n",
    "    gold_answers = []\n",
    "    predicted_answers = []\n",
    "    for item in data:\n",
    "    #     print(item['q'])\n",
    "        sub = [item['located_sub_text']]\n",
    "        answers = [item['a' + str(i)] for i in range(0,5)]\n",
    "    #     print(answers)\n",
    "        tfidf_sub = tfidf_vectorizer.fit_transform(sub)\n",
    "    #     print(tfidf_q)\n",
    "        tfidf_answers = tfidf_vectorizer.transform(answers)\n",
    "    #     print(tfidf_answers)\n",
    "        cosine_similarities = linear_kernel(tfidf_sub, tfidf_answers).flatten()\n",
    "        related_docs_indices = cosine_similarities.argsort()[:-5:-1]\n",
    "        gold_answers.append(item['answer_idx'])\n",
    "        predicted_answers.append(related_docs_indices[0])\n",
    "    return [predicted_answers, gold_answers]"
   ]
  },
  {
   "cell_type": "code",
   "execution_count": null,
   "metadata": {},
   "outputs": [],
   "source": [
    "[predicted_answers, gold_answers] = sa_prediction(processed_data_val)\n",
    "preds = np.asarray(predicted_answers)\n",
    "targets = np.asarray(gold_answers)\n",
    "acc = sum(preds == targets) / float(len(preds))\n",
    "acc"
   ]
  },
  {
   "cell_type": "code",
   "execution_count": null,
   "metadata": {},
   "outputs": [],
   "source": [
    "type(predicted_answers)"
   ]
  },
  {
   "cell_type": "code",
   "execution_count": 17,
   "metadata": {},
   "outputs": [],
   "source": [
    "def retrieval_model(val_data, train_data):\n",
    "    tfidf_vectorizer_q_train = TfidfVectorizer()\n",
    "    gold_answers = []\n",
    "    predicted_answers = []\n",
    "    questions_train = [ele['q'] for ele in train_data]\n",
    "    tfidf_q_train = tfidf_vectorizer_q_train.fit_transform(questions_train)\n",
    "#     print(tfidf_q_train)\n",
    "    j = 0\n",
    "    for item in val_data:\n",
    "        j += 1\n",
    "#         print(j)\n",
    "    #     print(item['q'])\n",
    "#         print('main: ', tfidf_q_train.shape)\n",
    "        try:\n",
    "            q = [item['q']]\n",
    "    #         q_train = [q for q in train_data['q']]\n",
    "    #         answers = [item['a' + str(i)] for i in range(0,5)]\n",
    "        #     print(answers)\n",
    "    #         print(q)\n",
    "            tfidf_q = tfidf_vectorizer_q_train.transform(q)\n",
    "        #     print(tfidf_q)\n",
    "\n",
    "        #     print(tfidf_answers)\n",
    "            cosine_similarities_q_train = linear_kernel(tfidf_q, tfidf_q_train).flatten()\n",
    "            related_docs_indices_q_train = cosine_similarities_q_train.argsort()[:-5:-1]\n",
    "            q_similar_idx = related_docs_indices_q_train[0]\n",
    "    #         print(q_similar)\n",
    "            gold_a_idx = train_data[q_similar_idx]['answer_idx']\n",
    "            gold_train_answer = [train_data[q_similar_idx]['a' + str(gold_a_idx)]]\n",
    "    #         print(gold_train_answer)\n",
    "\n",
    "            tfidf_vectorizer_val = TfidfVectorizer()\n",
    "    #         print(gold_train_answer)\n",
    "            tfidf_q_val = tfidf_vectorizer_val.fit_transform(gold_train_answer)\n",
    "    #         print('second: ', tfidf_q_val.shape)\n",
    "\n",
    "            answers = [item['a' + str(i)] for i in range(0,5)]\n",
    "            tfidf_answers = tfidf_vectorizer_val.transform(answers)\n",
    "            cosine_similarities = linear_kernel(tfidf_q_val, tfidf_answers).flatten()\n",
    "            related_docs_indices = cosine_similarities.argsort()[:-5:-1]\n",
    "            gold_answers.append(item['answer_idx'])\n",
    "            predicted_answers.append(related_docs_indices[0])\n",
    "        \n",
    "        except: \n",
    "            print(train_data[q_similar_idx])\n",
    "        \n",
    "        if j%1000 == 0:\n",
    "            print('processed: ', j)\n",
    "#         gold_answers.append(item['answer_idx'])\n",
    "#         predicted_answers.append(related_docs_indices[0])\n",
    "    return [predicted_answers, gold_answers]"
   ]
  },
  {
   "cell_type": "code",
   "execution_count": null,
   "metadata": {},
   "outputs": [
    {
     "name": "stdout",
     "output_type": "stream",
     "text": [
      "{u'answer_idx': 4, u'qid': 82854, u'show_name': u'House M.D.', u'ts': [13.34, 20.3], u'a1': u'Getting on the elevator .', u'a0': u'Talking to a patient .', u'a3': u'Running up the stairs .', u'a2': u'Sitting in the break room .', u'a4': u'Running down the stairs .', u'located_frame': [31, 55], u'sub_text': u\"Chase : Fever 's down . White count 's improving . <eos> Foreman : Has she said anything to you ? <eos> UNKNAME : You mean , like , I completely understand why Foreman did what he did <eos> UNKNAME : and I hold no grudge ? <eos> Foreman : What I did , did save my life . <eos> Foreman : Get in here and help ! Forget the suit ! <eos> Foreman : He 's tachycardic . Wide complex . Looks like V tach . <eos> Cameron : It 's not Cryptococcus ! What ? <eos> Cameron : House was wrong . The samples were negative . <eos> Foreman : What is it ? We do n't know . <eos> Chase : Give him the amio . <eos> UNKNAME : Do we have any more leads ? That was our lead . <eos> House : Foreman ! This is n't doing anything . <eos> UNKNAME : Foreman , he 's in V fib ! <eos> Chase : No good . Hit him again . Come on , man . Come on , Joe . <eos> Chase : Hit him again ! <eos> Chase : Give him an amp of epi . <eos> UNKNAME : Nothing . <eos> Cameron : He has multiple system failure . <eos> UNKNAME : Foreman ! <eos> UNKNAME : Foreman . <eos> UNKNAME : Foreman ! <eos> House : Time of death ? <eos> UNKNAME : No ! <eos> House : Time of death . <eos> UNKNAME : 12 : 26 p . m .\", u'located_sub_text': u'UNKNAME : and I hold no grudge ? <eos> Foreman : What I did , did save my life .', u'sub_time': [0.744, 3.997, 6.834, 10.629, 13.841, 28.272, 30.858, 34.57, 36.446, 38.282, 39.449, 40.742, 42.911, 44.997, 54.423, 58.886, 65.017, 73.233, 77.279, 83.994, 91.501, 95.297, 96.84, 98.759, 106.85, 114.107], u'vid_name': u'house_s02e20_seg02_clip_25', u'q': u'Where was Cameron after Foreman said his actions saved his life ?'}\n",
      "{u'answer_idx': 0, u'qid': 107664, u'show_name': u'House M.D.', u'ts': [9.24, 17.16], u'a1': u'3 .', u'a0': u'4 .', u'a3': u'5 .', u'a2': u'2 .', u'a4': u'1 .', u'located_frame': [24, 54], u'sub_text': u\"Chase : Then again , maybe we were wrong . <eos> House : Fever , coughing up blood , coughing up teeth . <eos> House : Either God sweetened the deal with a no flossing clause , or . <eos> Taub : Radiation sickness . <eos> Chase : Yeah , maybe the carpenter builds microwave ovens . <eos> UNKNAME : Kaposi sarcoma ? <eos> Foreman : No skin lesions . <eos> Chase : Heavy metal poisoning fits , canned tuna , sushi , lead paint . <eos> House : Heavy metal it is . Do a home search and a peripheral smear . <eos> Taub : I ca n't . I have a personal errand to run . <eos> House : Trying to catch your wife cheating ? <eos> Taub : Why would you say that ? <eos> UNKNAME : Missing mojo , posture slumped , expression defeated , <eos> UNKNAME : you did n't try to back up your theory . And Chase told me . <eos> UNKNAME : Go , find your mojo . <eos> UNKNAME : Shopkeeper , I need a patient file . <eos> Cuddy : Ask records . <eos> House : Not one of our patients' , <eos> House : my patient 's daughter . Ask your patient . <eos> House : He thinks I only want it to debunk his faith . <eos> Cuddy : And why would he think that ? <eos> House : Because he 's strangely perceptive for an idiot . <eos> Cuddy : And I 'm going to violate patient privacy laws just to keep you happy ? <eos> House : You keep me happy , I return the favor . Think of it as tat for tit . <eos> Cuddy : When we 're at work , we need to focus on our work thoughts .\", u'located_sub_text': u'Chase : Then again , maybe we were wrong . <eos> House : Fever , coughing up blood , coughing up teeth . <eos> House : Either God sweetened the deal with a no flossing clause , or .', u'sub_time': [0.765, 9.541, 14.045, 19.05, 20.518, 23.154, 24.255, 25.757, 29.494, 32.597, 35.333, 40.071, 42.407, 45.61, 50.048, 59.757, 62.76, 63.828, 65.063, 67.131, 69.534, 71.035, 74.238, 78.943, 83.114], u'vid_name': u'house_s07e08_seg02_clip_04', u'q': u'How many people were walking with House when he was in the hallway ?'}\n",
      "{u'answer_idx': 2, u'qid': 8220, u'show_name': u'House M.D.', u'ts': [14.21, 19.12], u'a1': u'A bottle of pills .', u'a0': u'A glass of water .', u'a3': u'His cane .', u'a2': u'A red coffee cup .', u'a4': u'A dry erase marker .', u'located_frame': [39, 60], u'sub_text': u\"Wilson : Fibrous tissue , enlarged spleen , fever . Could mean autoimmune . <eos> Wilson : Autoimmune diseases are n't passed along in bone marrow . <eos> Wilson : He can still donate . We confirm , I do the surgery . <eos> House : Lupus and Beh et 's are our best bet . Do an ANA and pathergy test . <eos> Foreman : Or it could be infection . <eos> House : My memory 's not what it used to be , <eos> House : but did n't we just rule that out eight seconds ago ? <eos> Foreman : Just because it 's not what screwed up his valve , <eos> UNKNAME : it does n't mean it 's not in his system . <eos> UNKNAME : Uh huh , and has the obvious advantage of making us right all along . <eos> House : Little disadvantage of making big brother dead . <eos> Foreman : That 's your argument ? A better outcome ? <eos> House : It fits . <eos> Foreman : The family has one kid with leukemia and one with autoimmune . <eos> UNKNAME : I would n't stand next to them in a rain storm . <eos> Foreman : That 's your argument ? It sucks for them ? <eos> Foreman : It fits , and we can still help big brother . <eos> Foreman : National Marrow Registry came up with four out of six donors . <eos> House : Six out of six is two better than four out of six , right ? <eos> House : I mean , I know two is so small , <eos> House : but since it means that he 's gonna get Graft Versus Host Disease , <eos> House : the marrow will attack his body , and he 'll die a painful death . <eos> House : Find out what autoimmune it is . <eos> Scott : Is this autoimmune better or worse than the new heart valve ? <eos> Cameron : It depends on which autoimmune it is . With early detection , most are manageable . <eos> UNKNAME : How long will testing take ? <eos> Cameron : That 's the other good thing about this . <eos> Cameron : There 's literally thousands of possible infections , <eos> Cameron : but only a handful of autoimmune conditions . <eos> Cameron : We 'll have the answer in a few hours . <eos> UNKNAME : NICK : Hey , Doctor ? <eos> Nick : Is this bad ?\", u'located_sub_text': u\"House : Lupus and Beh et 's are our best bet . Do an ANA and pathergy test . <eos> Foreman : Or it could be infection .\", u'sub_time': [0.718, 8.025, 10.427, 12.963, 16.6, 19.17, 20.638, 23.107, 24.942, 26.443, 30.181, 32.416, 34.118, 35.252, 38.622, 40.191, 42.393, 44.562, 46.964, 49.667, 51.502, 54.104, 59.109, 67.585, 71.255, 74.959, 76.427, 77.828, 79.863, 82.099, 83.767, 88.272], u'vid_name': u'house_s03e21_seg02_clip_11', u'q': u'What did House have in his hand when Foreman suggested that the patient had an infection ?'}\n",
      "('processed: ', 1000)\n",
      "{u'answer_idx': 1, u'qid': 23811, u'show_name': u'House M.D.', u'ts': [0.0, 16.65], u'a1': u'3', u'a0': u'2', u'a3': u'1', u'a2': u'4', u'a4': u'Zero', u'located_frame': [0, 52], u'sub_text': u\"UNKNAME : I 've talked to Dr . Cuddy , and she would like you to do three things . <eos> UNKNAME : One , send him home , two , sterilize the OR , three , use your own brain . <eos> UNKNAME : See ya . <eos> UNKNAME : It was about puke . That 's what 's so important . <eos> UNKNAME : Puke . <eos> Cuddy : Well , I guess I do n't have to rush back in . <eos> Cuddy : But whatever now what we do decide on , <eos> Cuddy : it comes after you take a bath . <eos> Taub : Here 's one . <eos> UNKNAME : Twenty five year old man with numbness and tingling in his legs <eos> Taub : and a speech disorder , three . <eos> Foreman : Anybody see House ? <eos> UNKNAME : It 's 10 : 00 a . m . I 'd be worried if he was here . Twenty five year old . <eos> Foreman : He was in pretty bad shape yesterday , after his patient died . <eos> Chase : House has lost patients before . <eos> Chase : We all have . He 's a big boy . <eos> Foreman : You did n't see him . <eos> Thirteen : Best thing we can do for him now is find him a new puzzle to solve . <eos> Taub : Thus bringing us back to my 25 year old . <eos> Chase : Yet you 're the only person here without a potential case in front of you . <eos> Thirteen : I have n't found the right one yet . Oh . <eos> Chase : I thought maybe it was because you were asking for a leave of absence <eos> Chase : and would n't have time to see a case through . <eos> Taub : I did n't say anything . He did n't . <eos> Chase : I saw an envelope on House 's desk with your name on it , <eos> Chase : so naturally I steamed it open . <eos> Foreman : What 's wrong with you ? You steam an envelope to keep it secret . <eos> Foreman : Which is why I just ripped it . <eos> Foreman : You gonna tell us where you 're going ?\", u'located_sub_text': u\"UNKNAME : I 've talked to Dr . Cuddy , and she would like you to do three things . <eos> UNKNAME : One , send him home , two , sterilize the OR , three , use your own brain . <eos> UNKNAME : See ya . <eos> UNKNAME : It was about puke . That 's what 's so important .\", u'sub_time': [0.368, 3.104, 8.209, 13.481, 18.119, 19.887, 23.758, 28.362, 34.969, 36.303, 39.306, 41.609, 42.843, 46.447, 49.517, 51.152, 53.187, 54.522, 56.957, 59.026, 63.097, 64.999, 67.935, 70.137, 72.039, 74.041, 77.678, 80.314, 84.585], u'vid_name': u'house_s07e01_seg02_clip_01', u'q': u'How many things does House give Foreman to do when he calls him ?'}\n",
      "{u'answer_idx': 0, u'qid': 67417, u'show_name': u'The Big Bang Theory', u'ts': [23.8, 29.44], u'a1': u'3', u'a0': u'2', u'a3': u'1', u'a2': u'4', u'a4': u'5', u'located_frame': [68, 91], u'sub_text': u\"Sheldon : For what ? PENNY : What do you think ? <eos> Penny : For doing the same crap he always does , except to a judge . <eos> UNKNAME : He has to stay there until he apologizes . So tell him to apologize . <eos> Penny : Oh , gee , thanks , Leonard . That did n't occur to me . <eos> UNKNAME : If he does n't apologize by 5 : 00 , he 's gonna spend the night in jail . <eos> Leonard : Oh , no , that 's terrible . The line 's moving . Gotta go . Bye . <eos> UNKNAME : Excuse me . Excuse me , jailor ? <eos> Raj : What ? I need to use the restroom . <eos> Guard : Knock yourself out . <eos> Sheldon : That 's the toilet ? Well , it ai n't a wishing well . <eos> Sheldon : Please tell the judge I 'm ready to apologize . <eos> Leonard : Look at that . <eos> UNKNAME : To my friend Leonard . From Stan Lee . Excelsior !\", u'located_sub_text': u\"Penny : Oh , gee , thanks , Leonard . That did n't occur to me . <eos> UNKNAME : If he does n't apologize by 5 : 00 , he 's gonna spend the night in jail . <eos> Leonard : Oh , no , that 's terrible . The line 's moving . Gotta go . Bye . <eos> UNKNAME : Excuse me . Excuse me , jailor ?\", u'sub_time': [0.615, 2.2, 6.704, 10.541, 14.086, 17.381, 32.271, 36.067, 38.903, 44.492, 49.664, 55.044, 56.546], u'vid_name': u's03e16_seg02_clip_11', u'q': u'How many people were on the bench with Sheldon when he was sitting in the holding cell ?'}\n",
      "{u'answer_idx': 4, u'qid': 4927, u'show_name': u'Friends', u'ts': [36.04, 45.67], u'a1': u'5', u'a0': u'1', u'a3': u'9', u'a2': u'8', u'a4': u'2', u'located_frame': [105, 140], u'sub_text': u\"Joey : Dude , what happened ? <eos> Chandler : How is that me ? <eos> UNKNAME : I 'm Chandler . <eos> Phoebe : That is so you ! <eos> Chandler : When have I ever done that ? When have I ever done that ? <eos> Kids : Trick or treat . <eos> UNKNAME : You 're the prettiest ballerina ever . Thank you . <eos> UNKNAME : That deserves another candy . <eos> Witch : Thank you . <eos> Rachel : I have to say , that earns two two pieces of candy . <eos> Ballerina : I love you ! <eos> Rachel : Honey , here , take it all .\", u'located_sub_text': u'Witch : Thank you . <eos> Rachel : I have to say , that earns two two pieces of candy . <eos> Ballerina : I love you !', u'sub_time': [0.888, 3.599, 6.519, 9.981, 12.775, 20.867, 27.123, 32.587, 35.089, 39.343, 43.139, 47.81], u'vid_name': u'friends_s08e06_seg02_clip_03', u'q': u'How many dance moves does the little girl do after Rachel opens the door'}\n",
      "('processed: ', 2000)\n",
      "{u'answer_idx': 4, u'qid': 58735, u'show_name': u'How I Met You Mother', u'ts': [52.14, 60.63], u'a1': u'C . A', u'a0': u'S . Fran', u'a3': u'S . Francisco', u'a2': u'san fran', u'a4': u'S . F', u'located_frame': [153, 184], u'sub_text': u\"UNKNAME : Just imagine the kind of history <eos> Ted : This little copper guy . <eos> UNKNAME : Lily 's back in town . <eos> Ted : And you let me go first ? Have you seen her ? <eos> Robin : Uh , yeah . I actually went <eos> UNKNAME : Apartment hunting with her today . <eos> UNKNAME : How 's she doing ? <eos> UNKNAME : You 're not going to like it . <eos> Lily : I am doing great . <eos> UNKNAME : This summer : Best thing ever ! <eos> Lily : San francisco is so happening right now . <eos> UNKNAME : She 's happy ? ! <eos> Ted : Marshall had the worst summer of his life , <eos> Ted : And she 's happy . <eos> UNKNAME : Yeah , and I suppose her art program <eos> UNKNAME : Was all fulfilling or whatever . <eos> UNKNAME : Oh . The art program : Best thing ever . <eos> Woman : Oh , my god . <eos> Man : This is your best work . <eos> Man : In all my years teaching , I 've never seen <eos> Man : Anything so . <eos> Man : Needless to say , this is art . <eos> Man : I ca n't teach you anything . <eos> Lily : But the best part of s . F . <eos> Lily : Oh , that 's what <eos> Lily : We call san francisco . The people .\", u'located_sub_text': u\"Man : I ca n't teach you anything . <eos> Lily : But the best part of s . F . <eos> Lily : Oh , that 's what <eos> Lily : We call san francisco . The people .\", u'sub_time': [0.767, 3.003, 4.071, 5.505, 9.676, 11.345, 13.013, 14.281, 16.782, 18.452, 20.921, 23.624, 25.092, 27.094, 29.563, 31.198, 33.033, 36.703, 38.572, 40.374, 41.975, 44.611, 48.815, 55.255, 57.057, 58.058], u'vid_name': u'met_s02e02_seg02_clip_02', u'q': u'What does Lily call San Francisco when she is explaining how her summer went ?'}\n",
      "{u'answer_idx': 2, u'qid': 11945, u'show_name': u'The Big Bang Theory', u'ts': [0.0, 3.0], u'a1': u'3', u'a0': u'2', u'a3': u'5', u'a2': u'4', u'a4': u'1', u'located_frame': [0, 12], u'sub_text': u\"Amy : That 'd be my boyfriend . <eos> UNKNAME : . happier playing his Star Trek game with friends than hanging out with me . <eos> Raj : Wars . What ? <eos> Penny : Star Wars . They get all cranky when you mix the two up . <eos> UNKNAME : What 's the difference ? There 's absolutely no difference . <eos> Amy : How do I get him to treat me better ? <eos> Penny : All right , let me give you a little GirIfriend 101 . <eos> UNKNAME : Usually the first move is you withhold sex . <eos> Penny : . but that will work better after Sheldon hits puberty . <eos> UNKNAME : So l 'd say give him the silent treatment . <eos> UNKNAME : No , he loves that . Hmm . <eos> Amy : Our record for sitting in a room together and not speaking . <eos> UNKNAME : . is six and a haIf hours . He said it was a magical evening . <eos> UNKNAME : All right , we 're gonna have to go with an oldie but goodie : <eos> Penny : Making a scene . l do n't think l 'd be good at that . <eos> UNKNAME : Ah . You 're lucky to have me . Back in Omaha . <eos> UNKNAME : . there are two restaurants I 'm not allowed into . Both Chili 's .\", u'located_sub_text': u\"Amy : That 'd be my boyfriend . <eos> UNKNAME : . happier playing his Star Trek game with friends than hanging out with me .\", u'sub_time': [0.856, 2.482, 6.2780000000000005, 8.906, 12.034, 17.998, 20.626, 24.421, 26.924, 30.218, 35.557, 37.935, 41.021, 45.067, 48.07, 51.615, 53.784], u'vid_name': u's05e19_seg02_clip_12', u'q': u'How many red cups are on the table before Amy speaks ?'}\n",
      "{u'answer_idx': 2, u'qid': 26851, u'show_name': u'House M.D.', u'ts': [0.0, 8.91], u'a1': u'2', u'a0': u'1', u'a3': u'4', u'a2': u'3', u'a4': u'None', u'located_frame': [0, 29], u'sub_text': u\"UNKNAME : Okay . <eos> Cameron : We 're recommending a drug called solumedrol . <eos> Dad : For hepatitis ? Did that show up on his blood tests ? <eos> Cameron : The tests are never 100 accurate . <eos> Dad : Well , then all the other tests could be wrong too . <eos> Dad : This could still be an infection or cancer . Um . <eos> Cameron : They do n't fit any of the most recent symptoms . <eos> Dad : Well , what , just hepatitis does ? <eos> Dad : I know , I know , I know . You can never be sure . <eos> UNKNAME : When Wendy was in the hospital , <eos> UNKNAME : a doctor told us there was this aggressive experimental treatment . <eos> Dad : which might extend her life by two or three years . <eos> UNKNAME : Well , we figured if there was any hope at all that we could have her with us a little while longer , it 'd be worth it . <eos> UNKNAME : Three weeks later , she was gone . <eos> Cameron : I do n't think it 's hepatitis . <eos> Cameron : I think your son has lupus . <eos> Wilson : I think it 's broken . <eos> Wilson : What did you do ?\", u'located_sub_text': u'UNKNAME : Okay .', u'sub_time': [0.991, 12.702, 16.039, 21.611, 25.115, 27.917, 30.92, 33.923, 36.793, 43.433, 47.837, 50.774, 55.245, 60.917, 67.357, 71.861, 75.031, 78.034], u'vid_name': u'house_s01e11_seg02_clip_14', u'q': u'How many lamps are visible when House is sitting in his office in excruciating pain ?'}\n"
     ]
    }
   ],
   "source": [
    "[predicted_answers, gold_answers] = retrieval_model(processed_data_val, processed_data_train)\n",
    "preds = np.asarray(predicted_answers)\n",
    "targets = np.asarray(gold_answers)\n",
    "acc = sum(preds == targets) / float(len(preds))\n",
    "acc"
   ]
  },
  {
   "cell_type": "code",
   "execution_count": null,
   "metadata": {},
   "outputs": [],
   "source": [
    "processed_data_train[3000]['answer_idx']"
   ]
  },
  {
   "cell_type": "code",
   "execution_count": null,
   "metadata": {},
   "outputs": [],
   "source": [
    "questions_train = [ele['q'] for ele in processed_data_train]\n",
    "questions_val = [ele['q'] for ele in processed_data_val]"
   ]
  },
  {
   "cell_type": "code",
   "execution_count": null,
   "metadata": {},
   "outputs": [],
   "source": [
    "questions_train[0:5]"
   ]
  },
  {
   "cell_type": "code",
   "execution_count": null,
   "metadata": {},
   "outputs": [],
   "source": [
    "td = TfidfVectorizer()\n",
    "td_2 = TfidfVectorizer()"
   ]
  },
  {
   "cell_type": "code",
   "execution_count": null,
   "metadata": {},
   "outputs": [],
   "source": [
    "tfidf_q_train = td.fit_transform(questions_train)\n",
    "tfidf_q_val = td_2.fit_transform(questions_val)"
   ]
  },
  {
   "cell_type": "code",
   "execution_count": null,
   "metadata": {},
   "outputs": [],
   "source": [
    "tfidf_q_train"
   ]
  },
  {
   "cell_type": "code",
   "execution_count": null,
   "metadata": {},
   "outputs": [],
   "source": [
    "tfidf_q_val"
   ]
  },
  {
   "cell_type": "code",
   "execution_count": null,
   "metadata": {},
   "outputs": [],
   "source": [
    "type(td)"
   ]
  },
  {
   "cell_type": "code",
   "execution_count": null,
   "metadata": {},
   "outputs": [],
   "source": [
    "if __name__ == '__main__':\n",
    "    "
   ]
  }
 ],
 "metadata": {
  "kernelspec": {
   "display_name": "Python 2",
   "language": "python",
   "name": "python2"
  },
  "language_info": {
   "codemirror_mode": {
    "name": "ipython",
    "version": 2
   },
   "file_extension": ".py",
   "mimetype": "text/x-python",
   "name": "python",
   "nbconvert_exporter": "python",
   "pygments_lexer": "ipython2",
   "version": "2.7.16"
  }
 },
 "nbformat": 4,
 "nbformat_minor": 2
}
