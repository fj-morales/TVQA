{
 "cells": [
  {
   "cell_type": "code",
   "execution_count": 1,
   "metadata": {},
   "outputs": [],
   "source": [
    "import numpy as np\n",
    "import json\n",
    "import pickle\n",
    "from ir_preprocessing import load_json\n",
    "from eval_utils import evaluate"
   ]
  },
  {
   "cell_type": "code",
   "execution_count": 2,
   "metadata": {},
   "outputs": [],
   "source": [
    "def get_ans_dict(run_qrel_file):\n",
    "    '''It works for run and qrel files'''\n",
    "    ans = []\n",
    "    with open(run_qrel_file, 'rt') as f_in:\n",
    "        for line in f_in:\n",
    "            line = line.strip('\\n')\n",
    "            if line.split(' ')[3] == '1':\n",
    "                qid = line.split(' ')[0]\n",
    "                answer = line.split(' ')[2]\n",
    "                ans.append([qid, answer])\n",
    "    sorted_ans = sorted(ans, key = lambda x: x[0])\n",
    "    return [x[1] for x in sorted_ans]"
   ]
  },
  {
   "cell_type": "code",
   "execution_count": 3,
   "metadata": {},
   "outputs": [],
   "source": [
    "def load_predictions(retrieved_docs_file, gold_qrels_file):\n",
    "    golds = get_ans_dict(gold_qrels_file)\n",
    "    preds = get_ans_dict(retrieved_docs_file)\n",
    "    return [preds, golds]"
   ]
  },
  {
   "cell_type": "code",
   "execution_count": 4,
   "metadata": {},
   "outputs": [],
   "source": [
    "retrieved_docs_file = './workdir/retrieved_files/run_tfidf_dev'\n",
    "gold_qrels_file = './workdir/gold_answer_qrels_dev'"
   ]
  },
  {
   "cell_type": "code",
   "execution_count": 5,
   "metadata": {},
   "outputs": [],
   "source": [
    "[p,g] = load_predictions(retrieved_docs_file, gold_qrels_file)"
   ]
  },
  {
   "cell_type": "code",
   "execution_count": 6,
   "metadata": {},
   "outputs": [
    {
     "data": {
      "text/plain": [
       "0.51942"
      ]
     },
     "execution_count": 6,
     "metadata": {},
     "output_type": "execute_result"
    }
   ],
   "source": [
    "evaluate(p, g)"
   ]
  }
 ],
 "metadata": {
  "kernelspec": {
   "display_name": "Python 3",
   "language": "python",
   "name": "python3"
  },
  "language_info": {
   "codemirror_mode": {
    "name": "ipython",
    "version": 3
   },
   "file_extension": ".py",
   "mimetype": "text/x-python",
   "name": "python",
   "nbconvert_exporter": "python",
   "pygments_lexer": "ipython3",
   "version": "3.7.3"
  }
 },
 "nbformat": 4,
 "nbformat_minor": 2
}
