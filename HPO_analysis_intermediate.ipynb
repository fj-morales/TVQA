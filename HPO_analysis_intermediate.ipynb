{
 "cells": [
  {
   "cell_type": "code",
   "execution_count": 1,
   "metadata": {},
   "outputs": [],
   "source": [
    "%matplotlib inline\n",
    "# %matplotlib notebook # Does not work \n",
    "import pickle \n",
    "import numpy as np\n",
    "from matplotlib import pyplot as plt\n",
    "import json\n",
    "from hpbandster.core.result import logged_results_to_HBS_result\n",
    "from matplotlib.backends.backend_pdf import PdfPages\n",
    "from datetime import datetime"
   ]
  },
  {
   "cell_type": "code",
   "execution_count": 2,
   "metadata": {},
   "outputs": [],
   "source": [
    "def open_hpo_results_files(file):\n",
    "    with open(file, 'rt') as f_in:\n",
    "        raw = []\n",
    "        for line in f_in:\n",
    "            raw.append(json.loads(line))\n",
    "        return raw"
   ]
  },
  {
   "cell_type": "code",
   "execution_count": 3,
   "metadata": {},
   "outputs": [],
   "source": [
    "def load_hpo_results(results_dir):\n",
    "    results_file = results_dir + 'results.json'\n",
    "    config_file = results_dir + 'configs.json'\n",
    "    return {\n",
    "        'results_lines': open_hpo_results_files(results_file),\n",
    "        'config_lines': open_hpo_results_files(config_file)        \n",
    "        }"
   ]
  },
  {
   "cell_type": "code",
   "execution_count": 4,
   "metadata": {},
   "outputs": [],
   "source": [
    "def load_results(file):\n",
    "    with open(file, 'rt') as f_in:\n",
    "        results = []\n",
    "        for line in f_in:\n",
    "#             line = line.strip('\\n')\n",
    "            results.append(json.loads(line))\n",
    "        \n",
    "        return {'loss_data': [x[3]['loss'] for x in results if x[1] == 100], # Get only runs on 100% of data\n",
    "#         return {'loss_data': [x[3]['loss'] for x in results], # Get only runs on 100% of data\n",
    "                'dataset': 'tvqa',\n",
    "                'hpo_method': file.split('/')[2].split('_')[2],\n",
    "                'times': [x[2] for x in results]\n",
    "               }\n",
    "#         return results"
   ]
  },
  {
   "cell_type": "code",
   "execution_count": 5,
   "metadata": {},
   "outputs": [],
   "source": [
    "def plot_results(*plots, default=0, n=0, time_flag=False):\n",
    "        \n",
    "    plt.figure()\n",
    "    plt.clf()\n",
    "\n",
    "    plt.title('RS vs BOHB HPO methods on ' + plots[0]['dataset'].upper() + ' validation set' )\n",
    "    \n",
    "    plt.axhline(y=default, color='r', linestyle='-', label = 'Default hp')\n",
    "    \n",
    "    for plot_data in plots:\n",
    "    \n",
    "        pp = PdfPages(plot_data['dataset'] + '_hpo_curve.pdf')\n",
    "        pp.savefig()\n",
    "#         y_results = [1 - min(plot_data['loss_data'][0:i+1]) for i,x in enumerate(plot_data['loss_data'])]\n",
    "        y_results = [1 - min(plot_data['loss_data'][0:i+1]) for i,x in enumerate(plot_data['loss_data'])]\n",
    "    \n",
    "        if time_flag:\n",
    "            time_diff = plot_data['times'][-1]['finished'] - plot_data['times'][0]['submitted']\n",
    "            idx = list(np.linspace(0, time_diff, num=len(y_results)))\n",
    "        \n",
    "            idx = [x/3600 for x in idx]\n",
    "            plt.xlabel('wallclock-time [hr]', fontsize = 13)\n",
    "        else:\n",
    "            idx = list(range(0,len(y_results)))\n",
    "            plt.xlabel('# iterations', fontsize = 13)\n",
    "        \n",
    "        if plot_data['dataset'] == 'tvqa':            \n",
    "            plt.ylabel('Loss/Accuracy', fontsize = 13)\n",
    "        else:\n",
    "            plt.ylabel('Loss/MAP', fontsize = 13)\n",
    "        plt.plot(idx[n:], y_results[n:], label = plot_data['hpo_method'].upper())\n",
    "        \n",
    "#     plt.plot([x/hour for x in incumbent_bohb['times_finished']], incumbent_bohb['losses'])\n",
    "    pp.savefig()\n",
    "    plt.legend()\n",
    "    plt.show()\n",
    "    pp.close()"
   ]
  },
  {
   "cell_type": "code",
   "execution_count": 6,
   "metadata": {},
   "outputs": [],
   "source": [
    "def get_best_config(*results_dirs):\n",
    "    \n",
    "    for results_dir in results_dirs:\n",
    "        results = logged_results_to_HBS_result(results_dir)\n",
    "        print( {'dir': results_dir,\n",
    "                'config': results.get_id2config_mapping()[results.get_incumbent_id()]['config'],\n",
    "                'mean_metric': results.get_runs_by_id(results.get_incumbent_id())[-1].info['mean_metric']\n",
    "               }, '\\n' )"
   ]
  },
  {
   "cell_type": "code",
   "execution_count": 7,
   "metadata": {},
   "outputs": [],
   "source": [
    "tvqa_bohb_results = './workdir/hpo_results_bohb/results.json'\n",
    "tvqa_bohb_config = './workdir/hpo_results_bohb/configs.json'\n",
    "tvqa_rs_results = './workdir/hpo_results_rs/results.json'\n",
    "tvqa_rs_config = './workdir/hpo_results_rs/configs.json'"
   ]
  },
  {
   "cell_type": "code",
   "execution_count": 8,
   "metadata": {},
   "outputs": [],
   "source": [
    "\n",
    "\n",
    "tvqa_bohb_results = './workdir/hpo_results_bohb_1573569700/results.json'\n",
    "tvqa_bohb_config = './workdir/hpo_results_bohb_1573569700/configs.json'\n",
    "tvqa_rs_results = './workdir/hpo_results_rs_1573569495/results.json'\n",
    "tvqa_rs_config = './workdir/hpo_results_rs_1573569495/configs.json'"
   ]
  },
  {
   "cell_type": "code",
   "execution_count": 9,
   "metadata": {},
   "outputs": [],
   "source": [
    "tvqa_bohb_results = load_results(tvqa_bohb_results)\n",
    "tvqa_rs_results = load_results(tvqa_rs_results)"
   ]
  },
  {
   "cell_type": "code",
   "execution_count": 16,
   "metadata": {},
   "outputs": [
    {
     "data": {
      "image/png": "[encoded data removed]",
      "text/plain": [
       "<Figure size 432x288 with 1 Axes>"
      ]
     },
     "metadata": {
      "needs_background": "light"
     },
     "output_type": "display_data"
    }
   ],
   "source": [
    "plot_results(tvqa_bohb_results, tvqa_rs_results, default=0.52, n=0, time_flag=False)"
   ]
  },
  {
   "cell_type": "code",
   "execution_count": 15,
   "metadata": {},
   "outputs": [
    {
     "data": {
      "image/png": "[encoded data removed]",
      "text/plain": [
       "<Figure size 432x288 with 1 Axes>"
      ]
     },
     "metadata": {
      "needs_background": "light"
     },
     "output_type": "display_data"
    }
   ],
   "source": [
    "plot_results(tvqa_bohb_results, tvqa_rs_results, default=0.52, n=0, time_flag=True)"
   ]
  },
  {
   "cell_type": "code",
   "execution_count": 12,
   "metadata": {},
   "outputs": [],
   "source": [
    "now = datetime.now()\n",
    "timestamp = datetime.timestamp(now)\n",
    "\n",
    "tvqa_bohb_dir = './workdir/hpo_results_bohb/'\n",
    "tvqa_rs_dir = './workdir/hpo_results_rs/'\n",
    "\n",
    "analyzed_results = {'tvqa_bohb': load_hpo_results(tvqa_bohb_dir),\n",
    "                    'tvqa_rs': load_hpo_results(tvqa_rs_dir)\n",
    "                    }\n",
    "\n",
    "analyzed_results_file = './tvqa_hpo_results_' + str(timestamp) + '.pkl'\n",
    "\n",
    "pickle.dump( analyzed_results, open(analyzed_results_file, 'wb'))"
   ]
  },
  {
   "cell_type": "code",
   "execution_count": 13,
   "metadata": {},
   "outputs": [
    {
     "name": "stdout",
     "output_type": "stream",
     "text": [
      "[[0, 0, 0], 33.33333333333333, {'submitted': 1573507223.9473963, 'started': 1573507223.9474478, 'finished': 1573507280.377702}, {'loss': 0.44906999999999997, 'info': {'s': {'metric': 0.55093, 'info': {'label': 'Accuracy based, LambdaMART optimized based on P@1', 'model_file': './workdir/tvqa_lmart_id1_budget33_leaves85_lr0.37_n100'}}, 'mean_metric': 0.55093, 'std_metric': 0.0}}, None] \n",
      "\n",
      "[[0, 0, 0], 100, {'submitted': 1573507257.6161468, 'started': 1573507257.616217, 'finished': 1573507598.6945164}, {'loss': 0.44662, 'info': {'s': {'metric': 0.55338, 'info': {'label': 'Accuracy based, LambdaMART optimized based on P@1', 'model_file': './workdir/tvqa_lmart_id1_budget100_leaves75_lr0.02_n1750'}}, 'mean_metric': 0.55338, 'std_metric': 0.0}}, None] \n",
      "\n"
     ]
    }
   ],
   "source": [
    "loaded_results = pickle.load( open( analyzed_results_file, \"rb\" ))\n",
    "for k in loaded_results.keys():\n",
    "    print(loaded_results[k]['results_lines'][0], '\\n')"
   ]
  },
  {
   "cell_type": "code",
   "execution_count": 14,
   "metadata": {},
   "outputs": [
    {
     "name": "stdout",
     "output_type": "stream",
     "text": [
      "{'dir': './workdir/hpo_results_bohb/', 'config': {'learning_rate': 0.14, 'n_leaves': 35, 'n_trees': 1900}, 'mean_metric': 0.5556} \n",
      "\n",
      "{'dir': './workdir/hpo_results_rs/', 'config': {'learning_rate': 0.16, 'n_leaves': 90, 'n_trees': 1400}, 'mean_metric': 0.55646} \n",
      "\n"
     ]
    }
   ],
   "source": [
    "get_best_config(tvqa_bohb_dir, tvqa_rs_dir)"
   ]
  }
 ],
 "metadata": {
  "kernelspec": {
   "display_name": "Python 3",
   "language": "python",
   "name": "python3"
  },
  "language_info": {
   "codemirror_mode": {
    "name": "ipython",
    "version": 3
   },
   "file_extension": ".py",
   "mimetype": "text/x-python",
   "name": "python",
   "nbconvert_exporter": "python",
   "pygments_lexer": "ipython3",
   "version": "3.7.3"
  }
 },
 "nbformat": 4,
 "nbformat_minor": 2
}
