{
 "cells": [
  {
   "cell_type": "markdown",
   "metadata": {},
   "source": [
    "## Split data "
   ]
  },
  {
   "cell_type": "code",
   "execution_count": 4,
   "metadata": {},
   "outputs": [],
   "source": [
    "import json"
   ]
  },
  {
   "cell_type": "code",
   "execution_count": 5,
   "metadata": {},
   "outputs": [],
   "source": [
    "if __name__ == '__main__':\n",
    "    train_file = './data/tvqa_train_processed.json'\n",
    "\n",
    "    with open(train_file, 'r') as f:\n",
    "        processed_data_train = json.load(f)\n",
    "    \n",
    "    train_split = int(0.8 * len(processed_data_train))\n",
    "    \n",
    "    new_train = processed_data_train[0:train_split]\n",
    "    new_dev = processed_data_train[train_split:]\n",
    "    with open('./data/tvqa_new_train_processed.json', 'wt') as new_train_f:\n",
    "        json.dump(new_train, new_train_f, indent=4)\n",
    "    \n",
    "    with open('./data/tvqa_new_dev_processed.json', 'wt') as new_dev_f:\n",
    "        json.dump(new_dev, new_dev_f, indent=4)"
   ]
  },
  {
   "cell_type": "code",
   "execution_count": 6,
   "metadata": {},
   "outputs": [],
   "source": [
    "with open('./data/tvqa_new_train_processed.json') as f:\n",
    "    data_open = json.load(f)"
   ]
  }
 ],
 "metadata": {
  "kernelspec": {
   "display_name": "Python 2",
   "language": "python",
   "name": "python2"
  },
  "language_info": {
   "codemirror_mode": {
    "name": "ipython",
    "version": 2
   },
   "file_extension": ".py",
   "mimetype": "text/x-python",
   "name": "python",
   "nbconvert_exporter": "python",
   "pygments_lexer": "ipython2",
   "version": "2.7.16"
  }
 },
 "nbformat": 4,
 "nbformat_minor": 2
}
